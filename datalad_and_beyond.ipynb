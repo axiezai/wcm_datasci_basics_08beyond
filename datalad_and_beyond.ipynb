{
 "cells": [
  {
   "cell_type": "markdown",
   "metadata": {
    "slideshow": {
     "slide_type": "slide"
    }
   },
   "source": [
    "<p style = \"text-align:center; font-size:200%;\"> Data Practices, Datalad & Beyond </p>\n",
    "\n",
    "<p style = \"text-align:center; font-size:110%;\">Data Science Basics in Neuroscience</p>\n",
    "<p style = \"text-align:center; font-size:110%;\">March 22nd, 2021</p>"
   ]
  },
  {
   "cell_type": "markdown",
   "metadata": {
    "slideshow": {
     "slide_type": "subslide"
    }
   },
   "source": [
    "Goals for Today\n",
    "---\n",
    "<img src=\"https://media.giphy.com/media/L17xM7PvLcqJggsCYa/giphy.gif\" style=\"float:center\"/>"
   ]
  },
  {
   "cell_type": "markdown",
   "metadata": {
    "slideshow": {
     "slide_type": "fragment"
    }
   },
   "source": [
    " - Why should we care about reproducibility"
   ]
  },
  {
   "cell_type": "markdown",
   "metadata": {
    "slideshow": {
     "slide_type": "fragment"
    }
   },
   "source": [
    " - What we've learned to do so far"
   ]
  },
  {
   "cell_type": "markdown",
   "metadata": {
    "slideshow": {
     "slide_type": "fragment"
    }
   },
   "source": [
    " - How to add data into practices"
   ]
  },
  {
   "cell_type": "markdown",
   "metadata": {
    "slideshow": {
     "slide_type": "fragment"
    }
   },
   "source": [
    " - Full research projects with the help of `datalad` and `neurodocker`"
   ]
  },
  {
   "cell_type": "markdown",
   "metadata": {
    "slideshow": {
     "slide_type": "slide"
    }
   },
   "source": [
    "Why reproducibility matters - Dr. Daniel Bolnick\n",
    "---"
   ]
  },
  {
   "cell_type": "markdown",
   "metadata": {
    "slideshow": {
     "slide_type": "fragment"
    }
   },
   "source": [
    " - Find the relevant article and blog post [here](http://retractionwatch.com/2016/12/08/sinking-feeling-gut-diary-retraction/)\n",
    ">\"\"Recently, Dr. Tony Wilson from CUNY Brooklyn tried to recreate my analysis, so that he could figure out how it worked and apply it to his own data... he couldn't quite recreate some of my core results.\"\n",
    "  <img src=\"https://3.bp.blogspot.com/-CFkSpxbvWnY/WEFOZy07Z3I/AAAAAAAAEGM/ZNkimbvdLh4TIbBUdp2rFwrRrRj20AT6QCLcB/s400/Figure%2B2.png\" height=\"120\" style=\"float:right\">\n",
    " <img src=\"https://3.bp.blogspot.com/-JMw37lxif0o/WEFOsCVkf0I/AAAAAAAAEGQ/-BYBthSzx2IC0_Q4lmqgN1JvLxsA_8SSgCLcB/s1600/Figure%2B3.jpeg\" height=\"80\" style=\"float:right\">"
   ]
  },
  {
   "cell_type": "markdown",
   "metadata": {
    "slideshow": {
     "slide_type": "subslide"
    }
   },
   "source": [
    ">\"So: how many results, negative or positive, that enter the published literature are tainted by a coding mistake as mine was. We just don't know. Which raises an important question: why don't we review code (or other custom software) as part of the peer-review process?\""
   ]
  },
  {
   "cell_type": "markdown",
   "metadata": {
    "slideshow": {
     "slide_type": "subslide"
    }
   },
   "source": [
    "Why Reproducibility Matters\n",
    "---"
   ]
  },
  {
   "cell_type": "markdown",
   "metadata": {
    "slideshow": {
     "slide_type": "fragment"
    }
   },
   "source": [
    " - More recent & relevant example: Neuroimaging Analysis Replication and Prediction Study (NARPS)\n",
    "<img src=\"images/narps.png\" width=\"560\" style=\"align:center\">"
   ]
  },
  {
   "cell_type": "markdown",
   "metadata": {
    "slideshow": {
     "slide_type": "fragment"
    }
   },
   "source": [
    " - 70 independent teams analyzed the same dataset, testing the same 9 hypothesis."
   ]
  },
  {
   "cell_type": "markdown",
   "metadata": {
    "slideshow": {
     "slide_type": "fragment"
    }
   },
   "source": [
    " - No two teams chose identical workflows."
   ]
  },
  {
   "cell_type": "markdown",
   "metadata": {
    "slideshow": {
     "slide_type": "fragment"
    }
   },
   "source": [
    " - Resulted in sizeable variations in the results of hypothesis tests, even for teams whose statistical maps were highly correlated at intermediate stages of the analysis pipeline"
   ]
  },
  {
   "cell_type": "markdown",
   "metadata": {
    "slideshow": {
     "slide_type": "slide"
    }
   },
   "source": [
    "\"Good enough\" practices so far ...\n",
    "---"
   ]
  },
  {
   "cell_type": "markdown",
   "metadata": {
    "slideshow": {
     "slide_type": "fragment"
    }
   },
   "source": [
    " - Using the terminal to:\n",
    "     1. Automate repetitive tasks across multiple files\n",
    "     2. Wrangling large files without opening up Excel or some clunky software\n",
    "     3. Multitask and parallelize your jobs"
   ]
  },
  {
   "cell_type": "markdown",
   "metadata": {
    "slideshow": {
     "slide_type": "subslide"
    }
   },
   "source": [
    " - **Notebooks** are lowering barriers to reproducible research projects\n",
    " \n",
    "<img src=\"https://jupyter.org/assets/jupyterpreview.png\" width=\"500\" style=\"float:left\">\n",
    "<img src=\"https://d33wubrfki0l68.cloudfront.net/3215c7166555d2ac02ef678fd025c171f90db23c/4e60a/images/bandone.png\" width=\"500\" style=\"float:right\">"
   ]
  },
  {
   "cell_type": "markdown",
   "metadata": {
    "slideshow": {
     "slide_type": "subslide"
    }
   },
   "source": [
    "<img src=\"images/version_control.png\" style=\"align:center\">"
   ]
  },
  {
   "cell_type": "markdown",
   "metadata": {
    "slideshow": {
     "slide_type": "fragment"
    }
   },
   "source": [
    "<img src=\"https://inundata.org/talks/open-code/open-code/d42194071e688066055df2a68b1c3fd8.png\" style=\"align:center\">"
   ]
  },
  {
   "cell_type": "markdown",
   "metadata": {
    "slideshow": {
     "slide_type": "subslide"
    }
   },
   "source": [
    "### In a GitHub Repo:"
   ]
  },
  {
   "cell_type": "markdown",
   "metadata": {
    "slideshow": {
     "slide_type": "fragment"
    }
   },
   "source": [
    " 1. Overview document for the project"
   ]
  },
  {
   "cell_type": "markdown",
   "metadata": {
    "slideshow": {
     "slide_type": "fragment"
    }
   },
   "source": [
    " 2. Clear dependencies and requirements for code"
   ]
  },
  {
   "cell_type": "markdown",
   "metadata": {
    "slideshow": {
     "slide_type": "fragment"
    }
   },
   "source": [
    " 3. Decompose programs into modular functions"
   ]
  },
  {
   "cell_type": "markdown",
   "metadata": {
    "slideshow": {
     "slide_type": "fragment"
    }
   },
   "source": [
    " 4. Provide explanatory comments at the start of each module/script"
   ]
  },
  {
   "cell_type": "markdown",
   "metadata": {
    "slideshow": {
     "slide_type": "fragment"
    }
   },
   "source": [
    " 5. Code is deposited in a persistent and version controlled repository"
   ]
  },
  {
   "cell_type": "markdown",
   "metadata": {
    "slideshow": {
     "slide_type": "fragment"
    }
   },
   "source": [
    " 6. Provide citatiton for users"
   ]
  },
  {
   "cell_type": "markdown",
   "metadata": {
    "slideshow": {
     "slide_type": "subslide"
    }
   },
   "source": [
    "## Complete Github research compendium examples:\n",
    "\n",
    " - [Scripts and sample data](https://github.com/IStevant/XY-mouse-gonad-scRNA-seq)\n",
    " - [Files, environment, DOI](https://github.com/boettiger-lab/pomdp-intro)"
   ]
  },
  {
   "cell_type": "markdown",
   "metadata": {
    "slideshow": {
     "slide_type": "fragment"
    }
   },
   "source": [
    "#### [guides.github.com/activities/citable-code/](https://guides.github.com/activities/citable-code/)\n",
    "\n",
    "<img src=\"https://inundata.org/talks/open-code/open-code/12dbee11604742f79f2a4140a864384b.png\" width=\"600\" style=\"align:center\">"
   ]
  },
  {
   "cell_type": "markdown",
   "metadata": {
    "slideshow": {
     "slide_type": "subslide"
    }
   },
   "source": [
    "<p style=\"text-align:center; font-size:200%\">But is just \"good enough\" enough?</p>\n",
    "\n",
    "\n",
    "<center>\n",
    "    <img src=\"https://media.giphy.com/media/3o6YglDndxKdCNw7q8/giphy.gif\" height=\"250\">\n",
    "</center>"
   ]
  },
  {
   "cell_type": "markdown",
   "metadata": {
    "slideshow": {
     "slide_type": "fragment"
    }
   },
   "source": [
    "<p style=\"text-align:center; font-size:200%\">How do we integrate good code with large datasets?</p>"
   ]
  },
  {
   "cell_type": "markdown",
   "metadata": {
    "slideshow": {
     "slide_type": "slide"
    }
   },
   "source": [
    "<p style=\"text-align:center; font-size:200%\">Brief Intro to Datalad</p>\n",
    "<center>\n",
    "<img src=\"https://raw.githubusercontent.com/datalad-handbook/artwork/59ad3d7f256ce6eb443bab955972c73083f06eb0/src/reproduced.svg\">\n",
    "</center>"
   ]
  },
  {
   "cell_type": "markdown",
   "metadata": {
    "slideshow": {
     "slide_type": "subslide"
    }
   },
   "source": [
    "## `Datalad` is a command-line data management multi-tool that can assist you in handling the entire life cycle of digital objects!\n",
    "---\n",
    "\n",
    "<img src=\"http://handbook.datalad.org/en/latest/_images/dataset.svg\" width=350 style=\"float:right\">\n",
    " - Every datalad command works on a datalad dataset, a dataset  is  simply a directory on any computer."
   ]
  },
  {
   "cell_type": "markdown",
   "metadata": {
    "slideshow": {
     "slide_type": "fragment"
    }
   },
   "source": [
    "---\n",
    "<img src=\"http://handbook.datalad.org/en/latest/_images/local_wf.svg\" width=\"350\" style=\"float:right\">\n",
    " - Git and git-annex works under the hood to version control metadata and large files in your dataset.\n"
   ]
  },
  {
   "cell_type": "markdown",
   "metadata": {
    "slideshow": {
     "slide_type": "subslide"
    }
   },
   "source": [
    "```\n",
    "$ datalad clone --dataset . \\\n",
    " https://github.com/datalad-datasets/longnow-podcasts.git recordings/longnow\n",
    "```"
   ]
  },
  {
   "cell_type": "markdown",
   "metadata": {
    "slideshow": {
     "slide_type": "fragment"
    }
   },
   "source": [
    "```\n",
    "[INFO] Cloning dataset to Dataset(/home/me/dl-101/DataLad-101/recordings/longnow) \n",
    "[INFO] Attempting to clone from https://github.com/datalad-datasets/longnow-podcasts.git to /home/me/dl-101/DataLad-101/recordings/longnow \n",
    "[INFO] Start enumerating objects \n",
    "[INFO] Start counting objects \n",
    "[INFO] Start compressing objects \n",
    "[INFO] Start receiving objects \n",
    "[INFO] Start resolving deltas \n",
    "[INFO] Completed clone attempts for Dataset(/home/me/dl-101/DataLad-101/recordings/longnow) \n",
    "[INFO] Remote origin not usable by git-annex; setting annex-ignore \n",
    "install(ok): recordings/longnow (dataset)\n",
    "add(ok): recordings/longnow (file)\n",
    "add(ok): .gitmodules (file)\n",
    "save(ok): . (dataset)\n",
    "action summary:\n",
    "  add (ok: 2)\n",
    "  install (ok: 1)\n",
    "  save (ok: 1\n",
    "```"
   ]
  },
  {
   "cell_type": "markdown",
   "metadata": {
    "slideshow": {
     "slide_type": "subslide"
    }
   },
   "source": [
    "```\n",
    "$ tree -d   # we limit the output to directories\n",
    ".\n",
    "├── books\n",
    "└── recordings\n",
    "    └── longnow\n",
    "        ├── Long_Now__Conversations_at_The_Interval\n",
    "        └── Long_Now__Seminars_About_Long_term_Thinking\n",
    "\n",
    "5 directories\n",
    "```"
   ]
  },
  {
   "cell_type": "markdown",
   "metadata": {
    "slideshow": {
     "slide_type": "fragment"
    }
   },
   "source": [
    "```\n",
    "$ cd recordings/longnow/Long_Now__Seminars_About_Long_term_Thinking\n",
    "$ ls\n",
    "2003_11_15__Brian_Eno__The_Long_Now.mp3\n",
    "2003_12_13__Peter_Schwartz__The_Art_Of_The_Really_Long_View.mp3\n",
    "2004_01_10__George_Dyson__There_s_Plenty_of_Room_at_the_Top__Long_term_Thinking_About_Large_scale_Computing.mp3\n",
    "2004_02_14__James_Dewar__Long_term_Policy_Analysis.mp3\n",
    "2004_03_13__Rusty_Schweickart__The_Asteroid_Threat_Over_the_Next_100_000_Years.mp3\n",
    "2004_04_10__Daniel_Janzen__Third_World_Conservation__It_s_ALL_Gardening.mp3\n",
    "2004_05_15__David_Rumsey__Mapping_Time.mp3\n",
    "2004_06_12__Bruce_Sterling__The_Singularity__Your_Future_as_a_Black_Hole.mp3\n",
    "2004_07_10__Jill_Tarter__The_Search_for_Extra_terrestrial_Intelligence__Necessarily_a_Long_term_Strategy.mp3\n",
    "2004_08_14__Phillip_Longman__The_Depopulation_Problem.mp3\n",
    "2004_09_11__Danny_Hillis__Progress_on_the_10_000_year_Clock.mp3\n",
    "2004_10_16__Paul_Hawken__The_Long_Green.mp3\n",
    "2004_11_13__Michael_West__The_Prospects_of_Human_Life_Extension.mp3\n",
    "```"
   ]
  },
  {
   "cell_type": "markdown",
   "metadata": {
    "slideshow": {
     "slide_type": "subslide"
    }
   },
   "source": [
    "```\n",
    "$ cd ../      # in longnow/\n",
    "$ du -sh      # Unix command to show size of contents\n",
    "3.7M\t.\n",
    "```"
   ]
  },
  {
   "cell_type": "markdown",
   "metadata": {
    "slideshow": {
     "slide_type": "fragment"
    }
   },
   "source": [
    "<center>\n",
    "    <img src=\"https://media.giphy.com/media/toB3AnUDkqE3GENKx0/giphy.gif\" width=300>\n",
    "</center>"
   ]
  },
  {
   "cell_type": "markdown",
   "metadata": {
    "slideshow": {
     "slide_type": "fragment"
    }
   },
   "source": [
    "```\n",
    "$ datalad get Long_Now__Seminars_About_Long_term_Thinking/2003_11_15__Brian_Eno__The_Long_Now.mp3\n",
    "get(ok): Long_Now__Seminars_About_Long_term_Thinking/2003_11_15__Brian_Eno__The_Long_Now.mp3 (file) [from web...]\n",
    "    \n",
    "\n",
    "$ datalad status --annex all\n",
    "236 annex'd files (35.7 MB/15.4 GB present/total size)\n",
    "nothing to save, working tree clean\n",
    "```"
   ]
  },
  {
   "cell_type": "markdown",
   "metadata": {
    "slideshow": {
     "slide_type": "subslide"
    }
   },
   "source": [
    "<p style=\"text-align:center; font-size:200%\">What does this accomplish?</p>\n",
    "\n",
    "<center>\n",
    "    <img src=\"https://media.giphy.com/media/l0ExazFt3nDN6v49W/giphy.gif\">\n",
    "</center>"
   ]
  },
  {
   "cell_type": "markdown",
   "metadata": {
    "slideshow": {
     "slide_type": "subslide"
    }
   },
   "source": [
    "### One `datalad` dataset  for everything:"
   ]
  },
  {
   "cell_type": "markdown",
   "metadata": {
    "slideshow": {
     "slide_type": "fragment"
    }
   },
   "source": [
    "---\n",
    "<img src=\"https://raw.githubusercontent.com/myyoda/talk-principles/master/pics/dataset_linkage.png\" width=\"600\" style=\"float:right\">\n",
    " - Linking & recording datasets! Individual datasets have data-dependencies and access URLs for individual files recorded. You can start building re-usable data subunits with:\n",
    " \n",
    " ```\n",
    " datalad create-sibling\n",
    " ```"
   ]
  },
  {
   "cell_type": "markdown",
   "metadata": {
    "slideshow": {
     "slide_type": "fragment"
    }
   },
   "source": [
    "<center>\n",
    "    <img src=\"https://raw.githubusercontent.com/myyoda/talk-principles/master/pics/dataset_modules.png\" width=980>\n",
    "</center>"
   ]
  },
  {
   "cell_type": "markdown",
   "metadata": {
    "slideshow": {
     "slide_type": "subslide"
    }
   },
   "source": [
    " ## Data sharing and collaboration\n",
    " \n",
    " - Install existing datasets by cloning the structure instead of copying all large files.\n",
    " - Create sibling datasets for publishing, sharing, and collaborations.\n",
    "    \n",
    "<center>\n",
    "    <img src=\"http://handbook.datalad.org/en/latest/_images/collaboration.svg\" width=800>\n",
    "</center>"
   ]
  },
  {
   "cell_type": "markdown",
   "metadata": {
    "slideshow": {
     "slide_type": "subslide"
    }
   },
   "source": [
    "### Data Provenance"
   ]
  },
  {
   "cell_type": "markdown",
   "metadata": {
    "slideshow": {
     "slide_type": "fragment"
    }
   },
   "source": [
    "<img src=\"https://media.giphy.com/media/yxF4HmDIXw83S/giphy.gif\" width=500 style=\"float:right\">\n",
    "\n",
    "How many times have you asked:\n",
    " - Where did this spreadsheet/file come from?\n",
    " - How was this file produced?\n",
    " - Why can't I reproduce the same results as before?"
   ]
  },
  {
   "cell_type": "markdown",
   "metadata": {
    "slideshow": {
     "slide_type": "subslide"
    }
   },
   "source": [
    "### `datalad run`\n",
    "---\n",
    "```\n",
    "$ datalad run -m \"create a list of podcast titles\" \"bash code/list_titles.sh > recordings/podcasts.tsv\"\n",
    "[INFO] == Command start (output follows) ===== \n",
    "[INFO] == Command exit (modification check follows) ===== \n",
    "add(ok): recordings/podcasts.tsv (file)\n",
    "save(ok): . (dataset)\n",
    "action summary:\n",
    "  add (ok: 1)\n",
    "  save (notneeded: 1, ok: 1)\n",
    "```"
   ]
  },
  {
   "cell_type": "markdown",
   "metadata": {
    "slideshow": {
     "slide_type": "fragment"
    }
   },
   "source": [
    "<center>\n",
    "    <img src=\"https://media.giphy.com/media/8kqrtQiz9YqnS/giphy.gif\" width=400 style=\"align:center\">\n",
    "</center>"
   ]
  },
  {
   "cell_type": "markdown",
   "metadata": {
    "slideshow": {
     "slide_type": "subslide"
    }
   },
   "source": [
    "```\n",
    "$ git log -p -n 1\n",
    "commit eee1356bb7e8f921174e404c6df6aadcc1f158f0\n",
    "Author: Elena Piscopia <elena@example.net>\n",
    "Date:   Tue Jun 23 21:03:48 2020 +0200\n",
    "\n",
    "    [DATALAD RUNCMD] create a list of podcast titles\n",
    "    \n",
    "    === Do not change lines below ===\n",
    "    {\n",
    "     \"chain\": [],\n",
    "     \"cmd\": \"bash code/list_titles.sh > recordings/podcasts.tsv\",\n",
    "     \"dsid\": \"1cdc8632-b584-11ea-90a2-3119e6b9cf19\",\n",
    "     \"exit\": 0,\n",
    "     \"extra_inputs\": [],\n",
    "     \"inputs\": [],\n",
    "     \"outputs\": [],\n",
    "     \"pwd\": \".\"\n",
    "    }\n",
    "    ^^^ Do not change lines above ^^^\n",
    "\n",
    "diff --git a/recordings/podcasts.tsv b/recordings/podcasts.tsv\n",
    "new file mode 100644\n",
    "index 0000000..f691b53\n",
    "--- /dev/null\n",
    "+++ b/recordings/podcasts.tsv\n",
    "@@ -0,0 +1,206 @@\n",
    "+2003-11-15\tBrian Eno  The Long Now\n",
    "+2003-12-13\tPeter Schwartz  The Art Of The Really Long View\n",
    "+2004-01-10\tGeorge Dyson  There s Plenty of Room at the Top  Long term Thinking About Large scale Computing\n",
    "+2004-02-14\tJames Dewar  Long term Policy Analysis\n",
    "```"
   ]
  },
  {
   "cell_type": "markdown",
   "metadata": {
    "slideshow": {
     "slide_type": "subslide"
    }
   },
   "source": [
    "##### `datalad rerun`\n",
    "---"
   ]
  },
  {
   "cell_type": "markdown",
   "metadata": {
    "slideshow": {
     "slide_type": "fragment"
    }
   },
   "source": [
    "<img src=\"https://media.giphy.com/media/111ebonMs90YLu/giphy.gif\" width=350  style=\"float:right\">\n",
    "\n",
    "```\n",
    "$ datalad rerun eee1356bb7e8f921174e404c6df6aadcc1f158f0\n",
    "[INFO] == Command start (output follows) ===== \n",
    "[INFO] == Command exit (modification check follows) ===== \n",
    "add(ok): recordings/podcasts.tsv (file)\n",
    "save(ok): . (dataset)\n",
    "action summary:\n",
    "  add (ok: 1)\n",
    "  save (notneeded: 1, ok: 1)\n",
    "  unlock (notneeded: 1)\n",
    "```"
   ]
  },
  {
   "cell_type": "markdown",
   "metadata": {
    "slideshow": {
     "slide_type": "fragment"
    }
   },
   "source": [
    "<center>\n",
    "    <img src=\"https://media.giphy.com/media/9V1F9o1pBjsxFzHzBr/giphy.gif\" width=250>\n",
    "</center>"
   ]
  },
  {
   "cell_type": "markdown",
   "metadata": {
    "slideshow": {
     "slide_type": "subslide"
    }
   },
   "source": [
    "### Complete  provenance capture with containers\n",
    "\n",
    "```\n",
    "$ datalad containers-run -n nilearn \\\n",
    "  --input 'inputs/mri_aligned/sub-*/in_bold3Tp2/sub-*_task-avmovie_run-*_bold*' \\\n",
    "  --output 'sub-*/LC_timeseries_run-*.csv' \\\n",
    "  \"bash -c 'for sub in sub-*; do for run in run-1 ... run-8;\n",
    "     do python3 code/extract_lc_timeseries.py \\$sub \\$run; done; done'\"\n",
    "\n",
    "-- Git commit -- Michael Hanke &lt;michael.hanke@gmail.com&gt;; Fri Jul 6 11:02:28 2018\n",
    "    [DATALAD RUNCMD] singularity exec --bind {pwd} .datalad/e...\n",
    "    === Do not change lines below ===\n",
    "    {\n",
    "     \"cmd\": \"singularity exec --bind {pwd} .datalad/environments/nilearn.simg bash..\",\n",
    "     \"dsid\": \"92ea1faa-632a-11e8-af29-a0369f7c647e\",\n",
    "     \"exit\": 0,\n",
    "     \"inputs\": [\n",
    "      \"inputs/mri_aligned/sub-*/in_bold3Tp2/sub-*_task-avmovie_run-*_bold*\",\n",
    "      \".datalad/environments/nilearn.simg\"\n",
    "     ],\n",
    "     \"outputs\": [\"sub-*/LC_timeseries_run-*.csv\"],\n",
    "     \"pwd\": \".\"\n",
    "    }\n",
    "    ^^^ Do not change lines above ^^^\n",
    "---\n",
    " sub-01/LC_timeseries_run-1.csv | 1 +\n",
    " sub-01/LC_timeseries_run-2.csv | 1 +\n",
    "```"
   ]
  },
  {
   "cell_type": "markdown",
   "metadata": {
    "slideshow": {
     "slide_type": "fragment"
    }
   },
   "source": [
    "<img src=\"https://media.giphy.com/media/OK27wINdQS5YQ/giphy.gif\" width=400 style=\"float:right\">\n",
    "\n",
    " - Of course you can re-run these container commits too."
   ]
  },
  {
   "cell_type": "markdown",
   "metadata": {
    "slideshow": {
     "slide_type": "subslide"
    }
   },
   "source": [
    "### Integration - built in commands for sharing\n",
    "\n",
    "<center>\n",
    "    <img src=\"http://handbook.datalad.org/en/latest/_images/thirdparty.svg\" width=1400>\n",
    "</center>"
   ]
  },
  {
   "cell_type": "markdown",
   "metadata": {
    "slideshow": {
     "slide_type": "subslide"
    }
   },
   "source": [
    "### Metadata Handling - Powerful queries into your datasets\n",
    "\n",
    "<center>\n",
    "    <img src=\"http://handbook.datalad.org/en/latest/_images/metadata_prov_imaging.svg\" width=1500>\n",
    "</center>"
   ]
  },
  {
   "cell_type": "markdown",
   "metadata": {
    "slideshow": {
     "slide_type": "subslide"
    }
   },
   "source": [
    "<center>\n",
    "    <img src=\"images/datalad_overview.png\">\n",
    "</center>"
   ]
  },
  {
   "cell_type": "markdown",
   "metadata": {
    "slideshow": {
     "slide_type": "subslide"
    }
   },
   "source": [
    "## Take Aways:\n",
    " - Reproducibility is an incremental journey.\n",
    " - There are plenty of tools to make this journey easier.\n",
    " - Only worry about 2 things with `datalad`: datasets and associated files!\n",
    "     - A dataset is a git repository with optional large file content tracking.\n",
    "     - Data provenance is important, useful, and scalable!\n",
    " - All these skills are highly desirable for data science/engineer positions!\n",
    " - Sharing promotes the social aspects of scientific research!"
   ]
  },
  {
   "cell_type": "markdown",
   "metadata": {
    "slideshow": {
     "slide_type": "fragment"
    }
   },
   "source": [
    "#### Resources:\n",
    " - [repronim.org](https://www.repronim.org/webinar-series.html)\n",
    " - [The Datalad Handbook](http://handbook.datalad.org/en/latest/index.html)\n",
    " - [Talk by Dr. Karthik Ram at Reproducibility for Biomedical Researchers seminar @ UCSF](https://github.com/karthik/ucsf19)"
   ]
  }
 ],
 "metadata": {
  "celltoolbar": "Slideshow",
  "kernelspec": {
   "display_name": "brainhack",
   "language": "python",
   "name": "brainhack"
  },
  "language_info": {
   "codemirror_mode": {
    "name": "ipython",
    "version": 3
   },
   "file_extension": ".py",
   "mimetype": "text/x-python",
   "name": "python",
   "nbconvert_exporter": "python",
   "pygments_lexer": "ipython3",
   "version": "3.7.8"
  }
 },
 "nbformat": 4,
 "nbformat_minor": 4
}
